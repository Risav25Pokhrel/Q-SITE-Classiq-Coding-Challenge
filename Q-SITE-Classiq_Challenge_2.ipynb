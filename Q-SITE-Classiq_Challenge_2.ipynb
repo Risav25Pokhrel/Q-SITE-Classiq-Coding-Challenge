{
 "cells": [
  {
   "cell_type": "markdown",
   "metadata": {},
   "source": [
    "# Q-SITE Classiq Coding Challenge - Lab 2"
   ]
  },
  {
   "cell_type": "markdown",
   "metadata": {},
   "source": [
    "### Second Challenge: Mastering Phase Kickback with Classiq"
   ]
  },
  {
   "cell_type": "markdown",
   "metadata": {},
   "source": [
    "---\n",
    "### Objective:\n",
    "Welcome to the Quantum Chemistry Challenge! Your task is to harness the power of the phase kickback primitive—a crucial operation in quantum computing—to manipulate and extract data smartly through constructive and destructive interference. You will implement phase kickback to observe its effects on quantum states, using Classiq’s powerful quantum programming framework.\n",
    "\n",
    "---\n"
   ]
  },
  {
   "cell_type": "markdown",
   "metadata": {},
   "source": [
    "### **Phase Kickback in Quantum Computing**\n",
    "hase kickback is a fundamental and widely used primitive in quantum computing. It is a process where the result of a function is transferred to the phase of a quantum state. This transfer is crucial because it allows the phase to be manipulated using constructive and destructive interference, leading to the desired computational outcome.\n",
    "\n",
    "In quantum computing, algorithms are generally structured into three key steps:\n",
    "1. **Encoding the Data:** Preparing the quantum states with the necessary information.\n",
    "2. **Manipulating the Data:** Applying quantum operations that process the encoded information.\n",
    "3. **Extracting the Result:** Measuring the quantum states to obtain the final result.\n",
    "\n",
    "Phase kickback plays a critical role in the manipulation stage, enabling the accurate extraction of results by influencing the phase of quantum states.\n",
    "\n",
    "### **How Does Phase Kickback Work?**\n",
    "\n",
    "The standard way to apply a classical function $f : \\{0, 1\\}^n \\rightarrow \\{0, 1\\}$ on quantum states is by using the oracle model. In this model, the oracle $O_f$ acts on quantum states $|x\\rangle$ and $|y\\rangle$ as follows:\n",
    "$\n",
    "O_f(|x\\rangle|y\\rangle) = |x\\rangle|y \\oplus f(x)\\rangle\n",
    "$\n",
    "Here, $|x\\rangle$ and $|y\\rangle$ are the argument and target quantum states, respectively, and $\\oplus$ represents addition modulo 2 or the XOR operation.\n",
    "\n",
    "The phase kickback primitive takes this oracle $O_f$ as input and performs the operation:\n",
    "$\n",
    "|x\\rangle \\rightarrow (-1)^{f(x)}|x\\rangle\n",
    "$\n",
    "This operation can be applied to a superposition of states:\n",
    "$\n",
    "\\sum_{i=0}^{2^n-1} \\alpha_i |x_i\\rangle \\rightarrow \\sum_{i=0}^{2^n-1} (-1)^{f(x_i)} \\alpha_i |x_i\\rangle\n",
    "$\n",
    "where $\\alpha_i$ is the amplitude of the state $|x_i\\rangle$.\n",
    "\n",
    "### **Why is Phase Kickback Important?**\n",
    "\n",
    "The beauty of phase kickback lies in its simplicity. By applying the oracle $O_f$ to the target quantum state $|-\\rangle = \\frac{1}{\\sqrt{2}} (|0\\rangle - |1\\rangle)$, we get:\n",
    "$\n",
    "O_f(|x\\rangle|-\\rangle) = (-1)^{f(x)}|x\\rangle|-\\rangle\n",
    "$\n",
    "This effectively achieves the desired transformation:\n",
    "$\n",
    "|x\\rangle \\rightarrow (-1)^{f(x)}|x\\rangle\n",
    "$\n",
    "Through this mechanism, the phase of the quantum state $|x\\rangle$ is modified based on the function $f(x)$, which is essential in many quantum algorithms such as the Deutsch-Jozsa and Simon's algorithms.\n",
    "\n",
    "### **Challenge Overview**\n",
    "\n",
    "In this challenge, you will implement phase kickback using Classiq's quantum programming framework. You'll construct a quantum circuit that leverages phase kickback to manipulate quantum states, applying the principles described above. This exercise will help you understand the power of phase manipulation in quantum computing and its applications in various quantum algorithms.\n",
    "\n",
    "Now, let's dive into coding and see phase kickback in action!"
   ]
  },
  {
   "cell_type": "markdown",
   "metadata": {},
   "source": [
    "### **Step 1: Preparing the Minus State**\n",
    "\n",
    "The first step in implementing phase kickback is to prepare the $|-\\rangle$ state. This state is crucial because it serves as the control qubit that will experience the phase kickback.\n",
    "\n",
    "**Mathematical Concept:**\n",
    "- The $|-\\rangle$ state is created by first applying the X (NOT) gate, which flips $|0\\rangle$ to $|1\\rangle$, and then applying the Hadamard gate to $|1\\rangle$:\n",
    "\n",
    "  $|-\\rangle = H \\cdot X \\cdot |0\\rangle = \\frac{1}{\\sqrt{2}} (|0\\rangle - |1\\rangle)$"
   ]
  },
  {
   "cell_type": "code",
   "execution_count": 40,
   "metadata": {},
   "outputs": [],
   "source": [
    "from classiq import *\n",
    "\n",
    "@qfunc\n",
    "def prepare_minus(target: Output[QBit]):\n",
    "    allocate(out=target, num_qubits=1)\n",
    "    X(target)\n",
    "    H(target)\n",
    "    # Apply X gate to flip the qubit\n",
    "    # Apply Hadamard gate to create the |-> state\n",
    "\n",
    "    ### Your Answer ###\n",
    "\n",
    "    ###################"
   ]
  },
  {
   "cell_type": "markdown",
   "metadata": {},
   "source": [
    "### **Step 2: Defining the Oracle Function**\n",
    "\n",
    "The next step is to define an oracle function that will control the phase kickback. The oracle function checks if the input $ x $ equals a certain value (in this case, 1). If $ x = 1 $, the function will flip the phase of the target qubit, creating the desired phase kickback effect.\n",
    "\n",
    "#### **Mathematical Concept:**\n",
    "\n",
    "The oracle function is designed to perform the following transformation:\n",
    "\n",
    "$\n",
    "O_f(|x\\rangle|-\\rangle) = (-1)^{f(x)} |x\\rangle \\frac{1}{\\sqrt{2}} \\left( |0\\rangle - |1\\rangle \\right)\n",
    "$\n",
    "\n",
    "where $ f(x) $ is 1 if $ x = 1 $ and 0 otherwise.\n",
    "\n",
    "#### **Explanation:**\n",
    "\n",
    "- The oracle applies a phase flip (multiplies by -1) to the target qubit if $ x = 1 $.\n",
    "- When $ x = 1 $, the state of the target qubit $ |-\\rangle = \\frac{1}{\\sqrt{2}} \\left( |0\\rangle - |1\\rangle \\right) $ will acquire a phase flip, effectively changing the sign of the qubit’s state.\n"
   ]
  },
  {
   "cell_type": "code",
   "execution_count": 41,
   "metadata": {},
   "outputs": [],
   "source": [
    "@qfunc\n",
    "def oracle_function(target: QBit, x: QNum):\n",
    "    target ^= x == 1\n",
    "    ### Your Answer ###\n",
    "\n",
    "    ################### \n",
    "\n",
    "    # Hint: for XOR operation to flip *TARGET*'s phase if x == 0\n",
    "    # *TARGET* ^= x == 0  # "
   ]
  },
  {
   "cell_type": "markdown",
   "metadata": {},
   "source": [
    "### **Step 3: Combining the Building Blocks with Phase Kickback**\n",
    "\n",
    "Now, you will combine the `prepare_minus` function with the `oracle_function` to implement the phase kickback. This step will apply the phase kickback to the quantum state.\n",
    "\n",
    "**Mathematical Concept:**\n",
    "- The phase kickback is achieved by applying the oracle to the target state:\n",
    "  $\n",
    "  O_f(|x\\rangle|-\\rangle) = (-1)^{f(x)}|x\\rangle|-\\rangle\n",
    "  $"
   ]
  },
  {
   "cell_type": "code",
   "execution_count": 42,
   "metadata": {},
   "outputs": [],
   "source": [
    "@qfunc\n",
    "def oracle_phase_kickback(x: QNum):\n",
    "    target = QBit(\"target\")\n",
    "    within_apply(\n",
    "        within=lambda: prepare_minus(target), \n",
    "        apply=lambda: oracle_function(target, x)\n",
    "    )"
   ]
  },
  {
   "cell_type": "markdown",
   "metadata": {},
   "source": [
    "### **Step 4: Constructing the Main Quantum Circuit**\n",
    "\n",
    "Finally, you will construct the main quantum circuit. This circuit will initialize the qubits, apply the Hadamard transformation to create superpositions, and then apply the phase kickback to the system.\n",
    "\n",
    "**Mathematical Concept:**\n",
    "- Applying the Hadamard transformation to the input qubits:\n",
    "  $\n",
    "  H|x\\rangle = \\frac{1}{\\sqrt{2}}(|0\\rangle + |1\\rangle)\n",
    "  $\n",
    "- Followed by applying the phase kickback to each superposition state.\n"
   ]
  },
  {
   "cell_type": "code",
   "execution_count": 43,
   "metadata": {},
   "outputs": [],
   "source": [
    "@qfunc\n",
    "def main(x: Output[QNum]):\n",
    "    allocate(num_qubits=4, out=x)  # Allocate 4 qubits for the quantum register\n",
    "    hadamard_transform(x)\n",
    "    oracle_phase_kickback(x)\n",
    "    # Apply Hadamard transformation to all qubits\n",
    "\n",
    "    ### Your Answer ###\n",
    "\n",
    "    ################### \n",
    "\n",
    "    # Apply the phase kickback operation on x\n",
    "\n",
    "    ### Your Answer ###\n",
    "\n",
    "    ################### "
   ]
  },
  {
   "cell_type": "markdown",
   "metadata": {},
   "source": [
    "By completing these steps, you have successfully constructed a quantum circuit that leverages the phase kickback effect. This circuit can be used as a building block in more complex quantum algorithms like the Deutsch-Jozsa algorithm, where identifying phase shifts in superposition states is key to extracting meaningful information.\n",
    "\n",
    "Now, synthesize and run your quantum circuit to observe the phase kickback in action!"
   ]
  },
  {
   "cell_type": "code",
   "execution_count": 44,
   "metadata": {},
   "outputs": [],
   "source": [
    "qmod = create_model(main)\n",
    "qprog = synthesize(qmod)\n"
   ]
  },
  {
   "cell_type": "markdown",
   "metadata": {},
   "source": [
    "#### Finally, Excute Your Programme"
   ]
  },
  {
   "cell_type": "code",
   "execution_count": 45,
   "metadata": {},
   "outputs": [
    {
     "name": "stdout",
     "output_type": "stream",
     "text": [
      "[{'x': 0.0}: 146, {'x': 2.0}: 143, {'x': 9.0}: 139, {'x': 4.0}: 132, {'x': 7.0}: 131, {'x': 15.0}: 130, {'x': 10.0}: 129, {'x': 8.0}: 129, {'x': 13.0}: 128, {'x': 1.0}: 126, {'x': 14.0}: 123, {'x': 6.0}: 123, {'x': 3.0}: 121, {'x': 11.0}: 120, {'x': 5.0}: 115, {'x': 12.0}: 113]\n"
     ]
    }
   ],
   "source": [
    "# This will run the quantum program and output the results directly in your Python environment.\n",
    "job = execute(qprog)\n",
    "results = job.result()[0].value.parsed_counts\n",
    "print(results)"
   ]
  },
  {
   "cell_type": "markdown",
   "metadata": {},
   "source": [
    "### Now save the QASM file for Grading!"
   ]
  },
  {
   "cell_type": "code",
   "execution_count": 46,
   "metadata": {},
   "outputs": [
    {
     "name": "stdout",
     "output_type": "stream",
     "text": [
      "QASM file saved at: qsite_challenge_2.qasm\n"
     ]
    }
   ],
   "source": [
    "qasm = QuantumProgram.from_qprog(qprog).qasm\n",
    "\n",
    "# Specify the file path where you want to save the QASM file\n",
    "file_path = \"qsite_challenge_2.qasm\"\n",
    "\n",
    "# Save the QASM string to a file\n",
    "with open(file_path, 'w') as file:\n",
    "    file.write(qasm)\n",
    "\n",
    "print(f\"QASM file saved at: {file_path}\")"
   ]
  },
  {
   "cell_type": "markdown",
   "metadata": {},
   "source": [
    "\n",
    "### **Save Your Quantum Model**\n",
    "\n",
    "🎉 Finally, save your quantum model for future use:"
   ]
  },
  {
   "cell_type": "code",
   "execution_count": 47,
   "metadata": {},
   "outputs": [],
   "source": [
    "write_qmod(create_model(main), \"qsite_challenge_2\")"
   ]
  },
  {
   "cell_type": "markdown",
   "metadata": {},
   "source": [
    "## Additional information\n",
    "\n",
    "#### Created by : Louis Chen\n",
    "\n",
    "#### Advised by : Tali Cohn, Eden Schirman  "
   ]
  },
  {
   "cell_type": "markdown",
   "metadata": {},
   "source": []
  }
 ],
 "metadata": {
  "kernelspec": {
   "display_name": "Python 3",
   "language": "python",
   "name": "python3"
  },
  "language_info": {
   "codemirror_mode": {
    "name": "ipython",
    "version": 3
   },
   "file_extension": ".py",
   "mimetype": "text/x-python",
   "name": "python",
   "nbconvert_exporter": "python",
   "pygments_lexer": "ipython3",
   "version": "3.11.7"
  }
 },
 "nbformat": 4,
 "nbformat_minor": 2
}
