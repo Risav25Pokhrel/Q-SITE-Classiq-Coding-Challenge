{
 "cells": [
  {
   "cell_type": "markdown",
   "metadata": {},
   "source": [
    "# Q-SITE Classiq Coding Challenge - Lab 4"
   ]
  },
  {
   "cell_type": "markdown",
   "metadata": {},
   "source": [
    "### Fourth Challenge: Mastering Quantum Superposition of Operators"
   ]
  },
  {
   "cell_type": "markdown",
   "metadata": {},
   "source": [
    "---\n",
    "### Objective:\n",
    "Welcome to the final Challenge -  Linear Combination of Unitaries! Your task is to harness the power of the LCU technique to control and apply different quantum operations on a quantum state based on the probabilities assigned to a controller qubit. Using Classiq’s quantum programming framework, you will construct and synthesize a quantum circuit that demonstrates this advanced technique.\n",
    "\n",
    "---\n"
   ]
  },
  {
   "cell_type": "markdown",
   "metadata": {},
   "source": [
    "### **Understanding the LCU Method**\n",
    "\n",
    "Linear Combination of Unitaries (LCU) [1,2,3] is a foundational framework in quantum computing, enabling the execution of complex operations through combinations of simpler unitary transformations. This approach is crucial for the development and optimization of quantum algorithms, enhancing both efficiency and scalability.\n",
    "\n",
    "The implementation of LCU in quantum computing typically involves three key phases:\n",
    "\n",
    "1. **State Preparation**: Creating a superposition state corresponding to the coefficients of each unitary.\n",
    "2. **Controlled Unitary Application**: Each unitary is applied in a controlled manner based on the prepared state.\n",
    "3. **Outcome Measurement**: The final state is measured, which probabilistically results in the desired transformation.\n",
    "\n",
    "These steps are essential for the coherent integration of multiple operations necessary for complex tasks such as Quantum Phase Estimation and Amplitude Amplification.\n",
    "\n",
    "### **Mathematical Framework**\n",
    "\n",
    "The general formula for LCU can be expressed as follows:\n",
    "\n",
    "$$ U = \\sum_{j} \\alpha_{j} U_{j} $$\n",
    "\n",
    "where `U` is the desired unitary operation, `α_j` are the coefficients, and `U_j` are the component unitary operations. The process of executing an LCU involves initializing quantum states, applying controlled unitaries, and handling outcomes through post-measurement processes.\n",
    "\n",
    "To illustrate, consider the following practical implementation of LCU, which combines elements of the Quantum Fourier Transform (QFT) and its conjugate transpose:\n",
    "\n",
    "$$ \\frac{1}{2}(1 + \\text{Real}{QFT}) = \\frac{1}{2}(1 + \\frac{1}{2}(QFT + QFT^\\dagger)) $$\n",
    "\n",
    "This equation is conditioned on a `controller` qubit being zero. The selection of outcomes where the `controller` equals zero is managed in the classical post-processing phase, highlighting the integration of quantum and classical computing techniques in executing LCU.\n"
   ]
  },
  {
   "cell_type": "markdown",
   "metadata": {},
   "source": [
    "### **Step 1: Implement the LCU Controllers**\n",
    "\n",
    "The LCU technique involves controlling which unitary operation is applied to the quantum state based on the value of a controller qubit. You will implement three operations: the identity operation, the Quantum Fourier Transform (QFT), and the inverse Quantum Fourier Transform (QFT†).\n"
   ]
  },
  {
   "cell_type": "markdown",
   "metadata": {},
   "source": [
    "Example: Simple Use of the Controller Function\n",
    "\n",
    "This example demonstrates how to use the controller qubit to apply the identity operation to the psi qubits when controller equals 0."
   ]
  },
  {
   "cell_type": "code",
   "execution_count": 2,
   "metadata": {},
   "outputs": [],
   "source": [
    "from classiq import *\n",
    "\n",
    "@qfunc\n",
    "def example_controllers(controller: QNum, psi: QNum):\n",
    "    # Apply the identity operation if controller == 0 and operand is lambda: apply_to_all(IDENTITY, psi)\n",
    "    control(\n",
    "        ctrl=controller == 0,\n",
    "        operand=lambda: apply_to_all(IDENTITY, psi)\n",
    "    )"
   ]
  },
  {
   "cell_type": "markdown",
   "metadata": {},
   "source": [
    "Now is your turn:"
   ]
  },
  {
   "cell_type": "code",
   "execution_count": 3,
   "metadata": {},
   "outputs": [],
   "source": [
    "@qfunc\n",
    "def lcu_controllers(controller: QNum, psi: QNum):\n",
    "    # Task 1: Apply the identity operation if controller == 0 and operand is lambda: apply_to_all(IDENTITY, psi)\n",
    "    ########################################\n",
    "    control(ctrl=controller==0,stmt_block=lambda: apply_to_all(IDENTITY,psi))\n",
    "    ########################################\n",
    "\n",
    "    # Task 2: Apply the Quantum Fourier Transform if controller == 1 and operand is lambda: qft(psi)\n",
    "    ########################################\n",
    "    control(ctrl=controller==1,stmt_block=lambda: qft(psi))\n",
    "    ########################################\n",
    "\n",
    "    # Task 3: Apply the inverse Quantum Fourier Transform if controller == 2 and operand is lambda: invert(lambda: qft(psi))\n",
    "    ########################################\n",
    "    control(ctrl=controller==2,stmt_block=lambda:invert(lambda: qft(psi)))\n",
    "    ########################################"
   ]
  },
  {
   "cell_type": "markdown",
   "metadata": {},
   "source": [
    "\n",
    "### **Step 2: Construct the Main Quantum Circuit**\n",
    "\n",
    "In the main circuit, you will initialize the controller and psi qubits, prepare the state of the controller qubit based on given probabilities, and then apply the LCU controllers.\n",
    "\n",
    "**Mathematical Insight:**\n",
    "\n",
    "The LCU method starts by preparing the state vector using a unitary operation $ U_c $. The operation $ U_c $ is designed to create a superposition of states where the coefficients $ c_i $ are the probabilities of each state:\n",
    "\n",
    "$$  U_c \\ket{0} = \\sum_i c_i \\ket{i} $$\n",
    "$$ U_c = \\sum_i c_i \\ket{i}\\bra{0} + \\sum_{j \\neq 0} a_j f(i,j)\\ket{j} $$\n",
    "\n",
    "*Note: The second part involving $ a_j $ and $ f(i,j) $ represents additional components of $ U_c $ which are not relevant for the target operation and thus are not of interest here.*\n",
    "\n",
    "The unitary operation is then applied to a tensor product of the initial state $ \\ket{0} $ and a target state $ \\ket{T} $, where $ I $ is the identity operation on the target state space:\n",
    "\n",
    "$$ \\ket{\\psi_1} = U_c \\otimes I \\ket{0} \\otimes \\ket{T} = \\sum_i c_i \\ket{i} \\otimes \\ket{T} $$\n",
    "\n",
    "Each $ \\ket{i} $ component of the superposition independently interacts with the target state $ \\ket{T} $ through a specific unitary $ U_i $:\n",
    "\n",
    "$$ \\ket{\\psi_2} = \\sum_i c_i \\ket{i} U_i \\ket{T} $$\n",
    "\n",
    "This represents the linear combination of different unitaries $ U_i $ applied to $ \\ket{T} $, weighted by the probabilities $ c_i $.\n"
   ]
  },
  {
   "cell_type": "code",
   "execution_count": 4,
   "metadata": {},
   "outputs": [],
   "source": [
    "@qfunc\n",
    "def main(controller: Output[QNum], psi: Output[QNum]):\n",
    "    error_bound = 0.01  # Task 4: Set the error bound for state preparation\n",
    "    \n",
    "    # Task 5: Allocate qubits for the psi register\n",
    "    ########################################\n",
    "    allocate(2, psi)\n",
    "    ########################################\n",
    "    \n",
    "    # Probabilities for the controller states\n",
    "    controller_probabilities = [0.5, 0.25, 0.25, 0]  \n",
    "    \n",
    "    # Task 6: Allocate qubits for the controller register\n",
    "    ########################################\n",
    "    allocate(2, controller)\n",
    "    ########################################\n",
    "\n",
    "    within_apply(\n",
    "        compute=lambda: inplace_prepare_state(probabilities=controller_probabilities, bound=error_bound, target=controller),\n",
    "        action=lambda: lcu_controllers(controller, psi)\n",
    "    )"
   ]
  },
  {
   "cell_type": "markdown",
   "metadata": {},
   "source": [
    "### **Step 3: Synthesize and Visualize the Circuit**\n",
    "\n",
    "After constructing the circuit, synthesize and visualize it to ensure the LCU method has been implemented correctly.\n"
   ]
  },
  {
   "cell_type": "code",
   "execution_count": 5,
   "metadata": {},
   "outputs": [
    {
     "name": "stderr",
     "output_type": "stream",
     "text": [
      "C:\\Users\\USER\\AppData\\Local\\Temp\\ipykernel_8528\\2293698560.py:18: DeprecationWarning: Parameters 'compute' and 'action' of function 'within_apply' have been renamed to 'within' and 'apply' respectively. Parameters 'compute' and 'action' will be deprecated in a future release.\n",
      "Hint: Change `within_apply(compute=..., action=...)` to `within_apply(within=..., apply=...)` or `within_apply(..., ...)`.\n",
      "  within_apply(\n"
     ]
    },
    {
     "name": "stdout",
     "output_type": "stream",
     "text": [
      "Opening: https://platform.classiq.io/circuit/40562052-c6f2-44d5-af99-3f324abf04ea?version=0.49.0\n"
     ]
    }
   ],
   "source": [
    "# Task 7: Create the quantum model and synthesize the quantum program\n",
    "quantum_model = create_model(main)## Your Answer ##\n",
    "quantum_program = synthesize(quantum_model) ## Your Answer ##\n",
    "\n",
    "########################################\n",
    "show(quantum_program)\n",
    "########################################\n",
    "\n",
    "\n",
    "########################################\n",
    "write_qmod(quantum_model, \"qsite_challenge_4\")\n",
    "########################################"
   ]
  },
  {
   "cell_type": "markdown",
   "metadata": {},
   "source": [
    "### Now save the QASM file for Grading!"
   ]
  },
  {
   "cell_type": "code",
   "execution_count": 6,
   "metadata": {},
   "outputs": [
    {
     "name": "stdout",
     "output_type": "stream",
     "text": [
      "QASM file saved at: qsite_challenge_4.qasm\n"
     ]
    }
   ],
   "source": [
    "qasm = QuantumProgram.from_qprog(quantum_program).qasm\n",
    "\n",
    "# Specify the file path where you want to save the QASM file\n",
    "file_path = \"qsite_challenge_4.qasm\"\n",
    "\n",
    "# Save the QASM string to a file\n",
    "with open(file_path, 'w') as file:\n",
    "    file.write(qasm)\n",
    "\n",
    "print(f\"QASM file saved at: {file_path}\")"
   ]
  },
  {
   "cell_type": "markdown",
   "metadata": {},
   "source": [
    "#### Finally, Excute Your Programme"
   ]
  },
  {
   "cell_type": "code",
   "execution_count": 7,
   "metadata": {},
   "outputs": [
    {
     "name": "stdout",
     "output_type": "stream",
     "text": [
      "[{'controller': 0.0, 'psi': 0.0}: 1152, {'controller': 0.0, 'psi': 1.0}: 124, {'controller': 0.0, 'psi': 2.0}: 122, {'controller': 0.0, 'psi': 3.0}: 112, {'controller': 1.0, 'psi': 2.0}: 79, {'controller': 1.0, 'psi': 0.0}: 70, {'controller': 1.0, 'psi': 1.0}: 66, {'controller': 1.0, 'psi': 3.0}: 57, {'controller': 2.0, 'psi': 0.0}: 53, {'controller': 2.0, 'psi': 2.0}: 45, {'controller': 2.0, 'psi': 1.0}: 44, {'controller': 2.0, 'psi': 3.0}: 39, {'controller': 3.0, 'psi': 0.0}: 23, {'controller': 3.0, 'psi': 2.0}: 22, {'controller': 3.0, 'psi': 3.0}: 21, {'controller': 3.0, 'psi': 1.0}: 19]\n"
     ]
    }
   ],
   "source": [
    "# Execute the quantum program and output the results\n",
    "job = execute(quantum_program)\n",
    "results = job.result()[0].value.parsed_counts\n",
    "print(results)"
   ]
  },
  {
   "cell_type": "markdown",
   "metadata": {},
   "source": [
    "### **Challenge Summary**\n",
    "\n",
    "In this challenge, you have constructed and executed a quantum circuit using the Linear Combination of Unitaries (LCU) method. By completing this challenge, you have demonstrated your understanding of how to control and apply different quantum operations based on the state of a controller qubit, a crucial concept in advanced quantum algorithms."
   ]
  },
  {
   "cell_type": "markdown",
   "metadata": {},
   "source": [
    "## Additional information\n",
    "\n",
    "#### Created by : Louis Chen\n",
    "\n",
    "#### Advised by : Tali Cohn, Eden Schirman  "
   ]
  }
 ],
 "metadata": {
  "kernelspec": {
   "display_name": "Python 3",
   "language": "python",
   "name": "python3"
  },
  "language_info": {
   "codemirror_mode": {
    "name": "ipython",
    "version": 3
   },
   "file_extension": ".py",
   "mimetype": "text/x-python",
   "name": "python",
   "nbconvert_exporter": "python",
   "pygments_lexer": "ipython3",
   "version": "3.11.7"
  }
 },
 "nbformat": 4,
 "nbformat_minor": 2
}
