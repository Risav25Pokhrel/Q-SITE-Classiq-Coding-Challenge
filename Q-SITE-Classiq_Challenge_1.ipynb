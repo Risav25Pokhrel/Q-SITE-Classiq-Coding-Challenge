{
 "cells": [
  {
   "cell_type": "markdown",
   "metadata": {},
   "source": [
    "# Q-SITE Classiq Coding Challenge - Lab 1"
   ]
  },
  {
   "cell_type": "markdown",
   "metadata": {},
   "source": [
    "## **Getting Started with Classiq**\n",
    "\n",
    "Welcome to Classiq! To begin exploring the world of quantum computing with us, you'll need to register on our platform and set up the Python SDK. Follow these simple steps, and you'll be ready to start coding in no time.\n",
    "\n",
    "### **Step 1: Register on the Classiq Platform**\n",
    "\n",
    "1. **Sign Up:** Head over to [platform.classiq.io](https://platform.classiq.io) and click the **Sign Up** button.\n",
    "2. **Choose Your Method:** You can register using your Google, Microsoft, or any other email after accepting our terms of use.\n",
    "3. **Complete Your Profile:** Fill in the required information on the following screen.\n",
    "4. **Welcome to Classiq:** Once you’ve completed the registration, you'll be directed to the Classiq platform homepage. You’re all set!\n",
    "\n",
    "![Classiq Registration](https://docs.classiq.io/resources/signup.gif)\n",
    "\n",
    "### **Step 2: Join Our Slack Community**\n",
    "\n",
    "Join our vibrant Slack community for technical support, quantum computing discussions, and more.\n",
    "\n",
    "1. **Sign Up:** Click [here](#) to join the Classiq Community Slack workspace.\n",
    "2. **Choose Your Method:** Sign up with your Google, Apple, or any other email account.\n",
    "\n",
    "   <img src=\"https://docs.classiq.io/resources/signup_slack.png\" alt=\"Slack Registration\" width=\"400\"/>\n",
    "\n",
    "### **Step 3: Install the Classiq Python SDK**\n",
    "\n",
    "To integrate with the Classiq platform, install our Python SDK.\n",
    "\n",
    "1. **Ensure Compatibility:** The SDK supports Python versions 3.8 to 3.11.\n",
    "2. **Install the SDK:**\n",
    "```bash\n",
    "   pip install -U classiq\n",
    "```"
   ]
  },
  {
   "cell_type": "code",
   "execution_count": null,
   "metadata": {},
   "outputs": [],
   "source": [
    "# Excute the following code if you haven't installed classiq package\n",
    "!pip install classiq --user"
   ]
  },
  {
   "cell_type": "markdown",
   "metadata": {},
   "source": [
    "\n",
    "### **Authenticate Your Account**\n",
    "\n",
    "After installing the SDK, you need to authenticate your device with your Classiq account.\n",
    "\n",
    "1. **In Python, execute the following:**\n",
    "\n",
    "   ```python\n",
    "   import classiq\n",
    "   classiq.authenticate()\n",
    "   ```\n",
    "\n",
    "\n",
    "2. **Confirm Authentication:**\n",
    "\n",
    "   This will open a confirmation window in your web browser. Confirm the authentication, and you're good to go!\n",
    "\n",
    "   <img src=\"https://docs.classiq.io/resources/signup_authentication.png\" alt=\"Confirmation_Auth\" width=\"400\"/>"
   ]
  },
  {
   "cell_type": "code",
   "execution_count": 2,
   "metadata": {},
   "outputs": [
    {
     "name": "stderr",
     "output_type": "stream",
     "text": [
      "c:\\Users\\USER\\anaconda3\\envs\\cq\\Lib\\site-packages\\classiq\\_internals\\authentication\\token_manager.py:92: UserWarning: Overwriting an existing refresh token should only be done if it is compromised. Make sure this operation is necessary, and if not, remove the call to device registration.\n",
      "  warnings.warn(\n"
     ]
    },
    {
     "name": "stdout",
     "output_type": "stream",
     "text": [
      "Your user code: BHTQ-PHTJ\n",
      "If a browser doesn't automatically open, please visit this URL from any trusted device: https://auth.classiq.io/activate?user_code=BHTQ-PHTJ\n"
     ]
    }
   ],
   "source": [
    "if True:\n",
    "    import classiq\n",
    "    classiq.authenticate(overwrite=True)"
   ]
  },
  {
   "cell_type": "markdown",
   "metadata": {},
   "source": [
    "## **Keeping Your SDK Up-to-Date**\n",
    "\n",
    "Our platform is frequently updated to provide you with the latest tools and features.\n",
    "\n",
    "- **Update the SDK:**\n",
    "\n",
    "  ```bash\n",
    "  pip install -U classiq\n",
    "  ```\n",
    "\n",
    "- **Install a Specific Version:**\n",
    "\n",
    "  ```bash\n",
    "  pip install classiq=={DESIRED_VERSION}\n",
    "  ```\n",
    "\n",
    "  Replace `{DESIRED_VERSION}` with the version number you want, e.g., `0.40`.\n",
    "\n",
    "- **Check Your Current Version:**\n",
    "\n",
    "  ```bash\n",
    "  pip show classiq\n",
    "  ```\n",
    "\n",
    "**Note:** Only the most recent versions of the Classiq SDK are supported. Using older versions may result in errors or warnings.\n",
    "\n",
    "If you run into any issues, check our troubleshooting section or ask for help in our Slack community.\n"
   ]
  },
  {
   "cell_type": "code",
   "execution_count": null,
   "metadata": {},
   "outputs": [],
   "source": [
    "#Please make show your version is updated\n",
    "pip show classiq"
   ]
  },
  {
   "cell_type": "markdown",
   "metadata": {},
   "source": [
    "## First Challenge - Hello Many Worlds"
   ]
  },
  {
   "cell_type": "markdown",
   "metadata": {},
   "source": [
    "Welcome to your first quantum coding challenge using Classiq! In this challenge, you'll design, optimize, analyze, and execute a quantum algorithm to solve the equation **y = x² + x + 1** using a quantum circuit. \n",
    "\n",
    "Don't know how to design a quantum circuit for algebra? Don't worry! Classiq will automatically design the quantum circuit for you, based on your request.\n",
    "\n",
    "Follow the steps below to complete this \"Hello World\" of quantum computing.\n",
    "\n",
    "\n",
    "\n",
    "### **1. Design (SDK)**\n",
    "\n",
    "Start by designing your quantum algorithm. Run the following code in your favorite Python SDK environment (after installing Classiq):\n",
    "\n",
    "```python\n",
    "@qfunc\n",
    "def main(x: Output[QNum], y: Output[QNum]):\n",
    "\n",
    "    allocate(4, x)\n",
    "    hadamard_transform(x)  # creates a uniform superposition\n",
    "    y |= ***The Equation you want to solve***\n",
    "```\n",
    "\n",
    "\n",
    "---\n",
    "#### **Note: Hadamard Transformation**\n",
    "\n",
    "The Hadamard transformation is a key operation in quantum computing that puts a qubit into a superposition state, allowing it to represent both $|0\\rangle$ and $|1\\rangle$ simultaneously.\n",
    "\n",
    "In Classiq, you can easily apply the Hadamard transformation to a qubit or a set of qubits using the `hadamard_transform(x)` function, where `x` is your qubit variable.\n",
    "\n",
    "```python\n",
    "hadamard_transform(x)  # Applies the Hadamard transformation to qubit x\n",
    "```\n",
    "---"
   ]
  },
  {
   "cell_type": "markdown",
   "metadata": {},
   "source": [
    "For example, if you want to solve `y = x`, then you need to let `qfunc` know by writing `y |= x`.\n",
    "\n",
    "For this challenge, you need to solve `y = x^2 + x + 1`.\n"
   ]
  },
  {
   "cell_type": "code",
   "execution_count": 5,
   "metadata": {},
   "outputs": [],
   "source": [
    "from classiq import *\n",
    "\n",
    "@qfunc\n",
    "def main(x: Output[QNum], y: Output[QNum]):\n",
    "\n",
    "    allocate(4, x)\n",
    "    hadamard_transform(x)  # creates a uniform superposition\n",
    "\n",
    "    #### Please don't change above code###\n",
    "    #### Your Answer #####################\n",
    "    y |= x**2 +x +1\n",
    "    ######################################"
   ]
  },
  {
   "cell_type": "markdown",
   "metadata": {},
   "source": [
    "### **2. Optimize (SDK)**\n",
    "\n",
    "Optimize your algorithm with the following code:"
   ]
  },
  {
   "cell_type": "code",
   "execution_count": 6,
   "metadata": {},
   "outputs": [],
   "source": [
    "quantum_model = create_model(main)\n",
    "quantum_program = synthesize(quantum_model)"
   ]
  },
  {
   "cell_type": "markdown",
   "metadata": {},
   "source": [
    "\n",
    "### **3. Analyze (IDE)**\n",
    "\n",
    "Analyze the quantum circuit in the IDE by running this code:"
   ]
  },
  {
   "cell_type": "code",
   "execution_count": 7,
   "metadata": {},
   "outputs": [
    {
     "name": "stdout",
     "output_type": "stream",
     "text": [
      "Opening: https://platform.classiq.io/circuit/71788db2-e94b-45e6-94c7-4e3be1724dfb?version=0.49.0\n"
     ]
    }
   ],
   "source": [
    "show(quantum_program)"
   ]
  },
  {
   "cell_type": "markdown",
   "metadata": {},
   "source": [
    "Check that you receive two blocks in the quantum circuit: `hadamard_transform` and `Arithmetic`. Then proceed to the execution step."
   ]
  },
  {
   "cell_type": "markdown",
   "metadata": {},
   "source": [
    "### **4. Execute Your Quantum Program**\n",
    "\n",
    "#### **Method 1: Execute in the IDE**\n",
    "\n",
    "1. In the IDE, navigate to the **Execution** tab.\n",
    "2. Under the **Classiq provider**, choose the **simulator** (ensure that other options are not selected).\n",
    "3. Change the job name to \"hello world\" and click **Run**.\n",
    "4. In the **Jobs** tab, check the results by hovering over the histogram bars to verify you receive 16 bars, each encapsulating the correct relation between `x` and `y`.\n",
    "\n",
    "#### **Method 2: Execute in the Python SDK**\n",
    "\n",
    "To execute your quantum program directly in the Python SDK, use the following code:"
   ]
  },
  {
   "cell_type": "code",
   "execution_count": 8,
   "metadata": {},
   "outputs": [
    {
     "name": "stdout",
     "output_type": "stream",
     "text": [
      "[{'x': 8.0, 'y': 73.0}: 145, {'x': 14.0, 'y': 211.0}: 140, {'x': 5.0, 'y': 31.0}: 139, {'x': 11.0, 'y': 133.0}: 138, {'x': 9.0, 'y': 91.0}: 134, {'x': 3.0, 'y': 13.0}: 132, {'x': 15.0, 'y': 241.0}: 131, {'x': 2.0, 'y': 7.0}: 131, {'x': 6.0, 'y': 43.0}: 128, {'x': 4.0, 'y': 21.0}: 128, {'x': 12.0, 'y': 157.0}: 126, {'x': 1.0, 'y': 3.0}: 123, {'x': 7.0, 'y': 57.0}: 117, {'x': 10.0, 'y': 111.0}: 116, {'x': 0.0, 'y': 1.0}: 113, {'x': 13.0, 'y': 183.0}: 107]\n"
     ]
    }
   ],
   "source": [
    "# This will run the quantum program and output the results directly in your Python environment.\n",
    "job = execute(quantum_program)\n",
    "results = job.result()[0].value.parsed_counts\n",
    "print(results)"
   ]
  },
  {
   "cell_type": "markdown",
   "metadata": {},
   "source": [
    "Check whether the result is correct. For example, if `x = 13`, you should obtain `13^2 + 13 + 1 = 183`.\n"
   ]
  },
  {
   "cell_type": "markdown",
   "metadata": {},
   "source": [
    "### Now save the QASM file for Grading!"
   ]
  },
  {
   "cell_type": "code",
   "execution_count": 9,
   "metadata": {},
   "outputs": [
    {
     "name": "stdout",
     "output_type": "stream",
     "text": [
      "QASM file saved at: qsite_challenge_1.qasm\n"
     ]
    }
   ],
   "source": [
    "qasm = QuantumProgram.from_qprog(quantum_program).qasm\n",
    "\n",
    "# Specify the file path where you want to save the QASM file\n",
    "file_path = \"qsite_challenge_1.qasm\"\n",
    "\n",
    "# Save the QASM string to a file\n",
    "with open(file_path, 'w') as file:\n",
    "    file.write(qasm)\n",
    "\n",
    "print(f\"QASM file saved at: {file_path}\")"
   ]
  },
  {
   "cell_type": "markdown",
   "metadata": {},
   "source": [
    "\n",
    "### **5. Save Your Quantum Model**\n",
    "\n",
    "Finally, save your quantum model for future use:"
   ]
  },
  {
   "cell_type": "code",
   "execution_count": 10,
   "metadata": {},
   "outputs": [],
   "source": [
    "write_qmod(create_model(main), \"qsite_challenge_1\")"
   ]
  },
  {
   "cell_type": "markdown",
   "metadata": {},
   "source": [
    "\n",
    "---\n",
    "\n",
    "**That's it!** You've just completed the \"Hello World\" quantum computing example using a mixed flow of the IDE and Python SDK. You're now ready to continue with more advanced topics with Classiq. Enjoy your journey into quantum computing!\n",
    "\n",
    "---\n"
   ]
  },
  {
   "cell_type": "markdown",
   "metadata": {},
   "source": [
    "## Additional information\n",
    "\n",
    "#### Created by : Louis Chen\n",
    "\n",
    "#### Advised by : Tali Cohn, Eden Schirman  "
   ]
  },
  {
   "cell_type": "markdown",
   "metadata": {},
   "source": []
  }
 ],
 "metadata": {
  "kernelspec": {
   "display_name": "Python 3",
   "language": "python",
   "name": "python3"
  },
  "language_info": {
   "codemirror_mode": {
    "name": "ipython",
    "version": 3
   },
   "file_extension": ".py",
   "mimetype": "text/x-python",
   "name": "python",
   "nbconvert_exporter": "python",
   "pygments_lexer": "ipython3",
   "version": "3.11.7"
  }
 },
 "nbformat": 4,
 "nbformat_minor": 2
}
