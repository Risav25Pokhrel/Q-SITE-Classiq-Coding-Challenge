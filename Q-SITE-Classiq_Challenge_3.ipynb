{
 "cells": [
  {
   "cell_type": "markdown",
   "metadata": {},
   "source": [
    "# Q-SITE Classiq Coding Challenge - Lab 3"
   ]
  },
  {
   "cell_type": "markdown",
   "metadata": {},
   "source": [
    "### Thrid Challenge: Mastering Quantum Comparisons: The Swap Test Challenge with Classiq"
   ]
  },
  {
   "cell_type": "markdown",
   "metadata": {},
   "source": [
    "---\n",
    "### Objective:\n",
    "Welcome to the Swap Test Challenge! Your task is to implement the Swap Test algorithm, a fundamental quantum procedure for comparing quantum states. Using Classiq’s quantum programming framework, you will construct a quantum circuit that measures the overlap between two quantum states, allowing you to determine their similarity with high precision. Your goal is to understand and apply the principles of the Swap Test to extract meaningful results from quantum computations.\n",
    "\n",
    "---\n"
   ]
  },
  {
   "cell_type": "markdown",
   "metadata": {},
   "source": [
    "### **Swap Test Challenge**\n",
    "\n",
    "In this challenge, you will implement and explore the Swap Test algorithm using Classiq's quantum programming framework. The Swap Test is a quantum algorithm used to determine the overlap between two quantum states. This challenge will guide you through constructing a quantum circuit that uses the Swap Test to compare two random quantum states, measure their overlap, and validate the results.\n",
    "\n",
    "### **Understanding the Swap Test**\n",
    "\n",
    "The Swap Test is a quantum function that checks the overlap between two quantum states. The inputs of the function are two quantum registers of the same size, $|\\psi_1\\rangle$ and $|\\psi_2\\rangle$, and it returns as an output a single \"test\" qubit whose state encodes the overlap between the two inputs:\n",
    "\n",
    "$\n",
    "|q\\rangle_{test} = \\alpha |0\\rangle + \\sqrt{1 - \\alpha^2} |1\\rangle,\n",
    "$\n",
    "\n",
    "with\n",
    "\n",
    "$\n",
    "\\alpha^2 = \\frac{1}{2} \\left( 1 + |\\langle\\psi_1|\\psi_2\\rangle|^2 \\right).\n",
    "$\n",
    "\n",
    "Thus, the probability of measuring the test qubit in the state $|0\\rangle$ is 1 if the states are identical (up to a global phase) and 0.5 if the states are orthogonal to each other.\n",
    "\n",
    "The quantum model for the Swap Test starts with an H gate on the test qubit, followed by swapping between the two states controlled on the test qubit (a controlled-SWAP gate for each of the qubits in the two states), and a final H gate on the test qubit.\n"
   ]
  },
  {
   "cell_type": "markdown",
   "metadata": {},
   "source": [
    "### **Step 1: Prepare Two Random Quantum States**\n",
    "\n",
    "Your first task is to prepare two random quantum states with the same number of qubits. These states will be the inputs to the Swap Test.\n"
   ]
  },
  {
   "cell_type": "code",
   "execution_count": 6,
   "metadata": {},
   "outputs": [],
   "source": [
    "import numpy as np\n",
    "\n",
    "# Seed for reproducibility\n",
    "np.random.seed(23)\n",
    "\n",
    "# Number of qubits\n",
    "NUM_QUBITS = 3\n",
    "\n",
    "# Generate random amplitudes for two quantum states\n",
    "amps1 = 1 - 2 * np.random.rand(2**NUM_QUBITS)  # Vector of 2^3 numbers in the range [-1,1]\n",
    "amps2 = 1 - 2 * np.random.rand(2**NUM_QUBITS)\n",
    "amps1 = amps1 / np.linalg.norm(amps1)  # Normalize the vector\n",
    "amps2 = amps2 / np.linalg.norm(amps2)\n"
   ]
  },
  {
   "cell_type": "markdown",
   "metadata": {},
   "source": [
    "### **Step 2: Implement the Swap Test**\n",
    "\n",
    "Next, you will implement the Swap Test algorithm. This involves preparing the quantum states, applying the Swap Test, and synthesizing the quantum circuit.\n"
   ]
  },
  {
   "cell_type": "code",
   "execution_count": 7,
   "metadata": {},
   "outputs": [],
   "source": [
    "from classiq import *\n",
    "from classiq.execution import ExecutionPreferences\n",
    "\n",
    "@qfunc\n",
    "def main(test: Output[QBit]):\n",
    "    state1 = QArray(\"state1\")\n",
    "    state2 = QArray(\"state2\")\n",
    "    prepare_amplitudes(amps1.tolist(), 0.0, state1)\n",
    "    prepare_amplitudes(amps2.tolist(), 0.0, state2)\n",
    "    swap_test(state1, state2, test)\n",
    "    \n",
    "    # Task 1: Prepare amplitudes for the first quantum state\n",
    "    # Hint: Use the prepare_amplitudes function with amps1\n",
    "    # https://docs.classiq.io/latest/explore/tutorials/getting_started/part2_state_preparation/\n",
    "    ########################################\n",
    "    # Your code here to prepare state1 with amps1\n",
    "    \n",
    "    ########################################\n",
    "    \n",
    "    # Task 2: Prepare amplitudes for the second quantum state\n",
    "    # Hint: Use the prepare_amplitudes function with amps2\n",
    "    ########################################\n",
    "    # Your code here to prepare state2 with amps2\n",
    "    \n",
    "    ########################################\n",
    "    \n",
    "    # Task 3: Apply the Swap Test to compare state1 and state2\n",
    "    ########################################\n",
    "    # Your code here to apply the swap_test function by\n",
    "    # swap_test(state1: qbit[], state2: qbit[], output test: qbit)\n",
    "    # https://github.com/Classiq/classiq-library/blob/main/functions/open_library_definitions/swap_test.qmod\n",
    "    \n",
    "    ########################################"
   ]
  },
  {
   "cell_type": "markdown",
   "metadata": {},
   "source": [
    "### **Step 3: Synthesize and Visualize the Circuit**\n",
    "\n",
    "After constructing the circuit, synthesize and visualize it to ensure the Swap Test has been implemented correctly.\n"
   ]
  },
  {
   "cell_type": "code",
   "execution_count": 8,
   "metadata": {},
   "outputs": [
    {
     "name": "stdout",
     "output_type": "stream",
     "text": [
      "Opening: https://platform.classiq.io/circuit/aa452662-3cfd-4576-a34c-09cc32b6856f?version=0.49.0\n"
     ]
    }
   ],
   "source": [
    "# Task 4: Create the quantum model and synthesize the circuit\n",
    "\n",
    "qmod = create_model(main)### Your Answer ###\n",
    "\n",
    "### In classiq, we can use this function to set execution preferences:\n",
    "qmod = set_execution_preferences(\n",
    "    qmod, execution_preferences=ExecutionPreferences(num_shots=100_000)\n",
    ")\n",
    "\n",
    "qprog = synthesize(qmod)### Your Answer ###\n",
    "\n",
    "show(qprog)"
   ]
  },
  {
   "cell_type": "markdown",
   "metadata": {},
   "source": [
    "### **Step 4: Execute the Circuit and Verify Results**\n",
    "Finally, execute the circuit to measure the overlap between the two quantum states. Then, compare the result from the Swap Test with the exact overlap computed classically.\n",
    "\n",
    "Using the expected probability of measuring the state $|0\\rangle$ as defined above:\n",
    "\n",
    "$\n",
    "\\alpha^2 = \\frac{1}{2} \\left( 1 + |\\langle\\psi_1|\\psi_2\\rangle|^2 \\right),\n",
    "$\n",
    "\n",
    "we extract the overlap:\n",
    "\n",
    "$\n",
    "|\\langle\\psi_1|\\psi_2\\rangle|^2 = \\sqrt{2P\\left(q_{\\text{test}} = |0\\rangle\\right) - 1}.\n",
    "$\n",
    "\n",
    "The exact overlap is computed with the dot product of the two state vectors. Note that for the sake of this demonstration, we execute this circuit 100,000 times to improve the precision of the probability estimate. This is usually not required in actual programs.\n"
   ]
  },
  {
   "cell_type": "code",
   "execution_count": 9,
   "metadata": {},
   "outputs": [
    {
     "name": "stdout",
     "output_type": "stream",
     "text": [
      "States overlap from Swap-Test result: 0.6970509307073623\n",
      "States overlap from classical calculation: 0.70196335130861\n"
     ]
    }
   ],
   "source": [
    "write_qmod(qmod, \"qsite_challenge_3\", decimal_precision=15)\n",
    "\n",
    "res = execute(qprog).result()\n",
    "\n",
    "# Comparing the measured overlap with the exact overlap\n",
    "overlap_from_swap_test = np.sqrt(\n",
    "    2 * res[0].value.counts[\"0\"] / sum(res[0].value.counts.values()) - 1\n",
    ")\n",
    "exact_overlap = np.abs(amps1 @ amps2)\n",
    "\n",
    "print(\"States overlap from Swap-Test result:\", overlap_from_swap_test)\n",
    "print(\"States overlap from classical calculation:\", exact_overlap)\n",
    "\n",
    "RTOL = 0.05\n",
    "assert np.isclose(\n",
    "    overlap_from_swap_test, exact_overlap, RTOL\n",
    "), f\"\"\"\n",
    "The quantum result is too far from the classical one, by a relative tolerance of {RTOL}.\n",
    "\"\"\""
   ]
  },
  {
   "cell_type": "markdown",
   "metadata": {},
   "source": [
    "### Now save the QASM file for Grading!"
   ]
  },
  {
   "cell_type": "code",
   "execution_count": 10,
   "metadata": {},
   "outputs": [
    {
     "name": "stdout",
     "output_type": "stream",
     "text": [
      "QASM file saved at: qsite_challenge_3.qasm\n"
     ]
    }
   ],
   "source": [
    "qasm = QuantumProgram.from_qprog(qprog).qasm\n",
    "\n",
    "# Specify the file path where you want to save the QASM file\n",
    "file_path = \"qsite_challenge_3.qasm\"\n",
    "\n",
    "# Save the QASM string to a file\n",
    "with open(file_path, 'w') as file:\n",
    "    file.write(qasm)\n",
    "\n",
    "print(f\"QASM file saved at: {file_path}\")"
   ]
  },
  {
   "cell_type": "markdown",
   "metadata": {},
   "source": [
    "### **Challenge Summary**\n",
    "\n",
    "In this challenge, you have constructed and executed a quantum circuit using the Swap Test to measure the overlap between two quantum states. By comparing the quantum result with the classical calculation, you have demonstrated the accuracy and efficiency of quantum algorithms in state comparison tasks.\n",
    "\n",
    "This exercise showcases how quantum circuits can be used to solve complex problems in quantum computing, such as state similarity detection, with precision and scalability.\n",
    "\n",
    "🎉  Now, it's time to run your circuit and see the power of the Swap Test in action!"
   ]
  },
  {
   "cell_type": "markdown",
   "metadata": {},
   "source": [
    "## Additional information\n",
    "\n",
    "#### Created by : Louis Chen\n",
    "\n",
    "#### Advised by : Tali Cohn, Eden Schirman  "
   ]
  }
 ],
 "metadata": {
  "kernelspec": {
   "display_name": "Python 3",
   "language": "python",
   "name": "python3"
  },
  "language_info": {
   "codemirror_mode": {
    "name": "ipython",
    "version": 3
   },
   "file_extension": ".py",
   "mimetype": "text/x-python",
   "name": "python",
   "nbconvert_exporter": "python",
   "pygments_lexer": "ipython3",
   "version": "3.11.7"
  }
 },
 "nbformat": 4,
 "nbformat_minor": 2
}
